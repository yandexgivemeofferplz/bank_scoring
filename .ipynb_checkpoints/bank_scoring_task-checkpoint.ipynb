{
 "cells": [
  {
   "cell_type": "markdown",
   "metadata": {
    "toc": "true"
   },
   "source": [
    "# Table of Contents\n",
    " <p><div class=\"lev1 toc-item\"><a href=\"#Применение-алгоритмов-машинного-обучения-для-задачи-банковского-скоринга\" data-toc-modified-id=\"Применение-алгоритмов-машинного-обучения-для-задачи-банковского-скоринга-1\"><span class=\"toc-item-num\">1&nbsp;&nbsp;</span>Применение алгоритмов машинного обучения для задачи банковского скоринга</a></div>"
   ]
  },
  {
   "cell_type": "markdown",
   "metadata": {},
   "source": [
    "# Применение алгоритмов машинного обучения для задачи банковского скоринга"
   ]
  },
  {
   "cell_type": "markdown",
   "metadata": {},
   "source": [
    "Входными данными являются наборы для обучения и для тестирования:\n",
    "* bank_scoring_train.csv.gz\n",
    "* bank_scoring_test.csv.gz"
   ]
  },
  {
   "cell_type": "markdown",
   "metadata": {
    "collapsed": true
   },
   "source": [
    "Описание полей:\n",
    "* SeriousDlqin2yrs - Флаг выхода на просрочку через 90 дней\n",
    "* RevolvingUtilizationOfUnsecuredLines - Общий баланс по кредитным картам и личным кредитным линиям, за исключением недвижимости, и без задолженности по кредитам, таким как автокредиты, деленные на сумму кредитных лимитов\n",
    "* age - Возраст заёмщика в годах\n",
    "* NumberOfTime30-59DaysPastDueNotWorse - Сколько раз заемщик просрочил выплату не более, чем на 30-59 дней, за последние 2 года.\n",
    "* DebtRatio - Ежемесячные платежи по долгам, алименты и прожиточные расходы, делённые на месячный валовый доход\n",
    "* MonthlyIncome - Ежемесячный доход\n",
    "* NumberOfOpenCreditLinesAndLoans - Количество открытых кредитов (например, автокредит или закладная, кредитные карты и т.д.)\n",
    "* NumberOfTimes90DaysLate - Сколько раз заёмщик просрочил выплату на 90 дней и более.\n",
    "* NumberRealEstateLoansOrLines - Количество ипотечных кредитов и кредитов на недвижимость\n",
    "* NumberOfTime60-89DaysPastDueNotWorse - Сколько раз заёмщик просрочил выплату не более, чем на 60-89 дней, за последние 2 года.\n",
    "* NumberOfDependents - Количество иждивенцев в семье, исключая самого заёмщика (супруга, дети и т.д.)"
   ]
  },
  {
   "cell_type": "markdown",
   "metadata": {},
   "source": [
    "Целевой переменной является SeriousDlqin2yrs"
   ]
  },
  {
   "cell_type": "markdown",
   "metadata": {},
   "source": [
    "** Рекомендации по использованию моделей, метрик и кросс-валидации представлены в compare_algorithms_emp **"
   ]
  },
  {
   "cell_type": "code",
   "execution_count": 1,
   "metadata": {
    "collapsed": true
   },
   "outputs": [],
   "source": [
    "import numpy as np\n",
    "import pandas as pd\n",
    "import sklearn.tree\n",
    "import sklearn.metrics\n",
    "import sklearn.ensemble\n",
    "import sklearn.linear_model\n",
    "import matplotlib.pyplot as plt\n",
    "plt.style.use('ggplot')\n",
    "%matplotlib inline\n",
    "import copy"
   ]
  },
  {
   "cell_type": "code",
   "execution_count": 2,
   "metadata": {
    "collapsed": true
   },
   "outputs": [],
   "source": [
    "data = pd.read_csv('bank_scoring_train.csv.gz', sep='\\t')\n",
    "X = data.drop(['SeriousDlqin2yrs'], axis=1)\n",
    "y = data[['SeriousDlqin2yrs']]"
   ]
  },
  {
   "cell_type": "code",
   "execution_count": 3,
   "metadata": {
    "collapsed": true
   },
   "outputs": [],
   "source": [
    "data_test= pd.read_csv('bank_scoring_test.csv.gz', sep='\\t')\n",
    "Xt = data_test.drop(['SeriousDlqin2yrs'], axis=1)\n",
    "yt = data_test[['SeriousDlqin2yrs']]"
   ]
  },
  {
   "cell_type": "code",
   "execution_count": 4,
   "metadata": {},
   "outputs": [
    {
     "data": {
      "text/html": [
       "<div>\n",
       "<style>\n",
       "    .dataframe thead tr:only-child th {\n",
       "        text-align: right;\n",
       "    }\n",
       "\n",
       "    .dataframe thead th {\n",
       "        text-align: left;\n",
       "    }\n",
       "\n",
       "    .dataframe tbody tr th {\n",
       "        vertical-align: top;\n",
       "    }\n",
       "</style>\n",
       "<table border=\"1\" class=\"dataframe\">\n",
       "  <thead>\n",
       "    <tr style=\"text-align: right;\">\n",
       "      <th></th>\n",
       "      <th>A0</th>\n",
       "      <th>A1</th>\n",
       "      <th>A2</th>\n",
       "      <th>A3</th>\n",
       "      <th>A4</th>\n",
       "      <th>A5</th>\n",
       "      <th>A6</th>\n",
       "      <th>A7</th>\n",
       "      <th>A8</th>\n",
       "      <th>A9</th>\n",
       "    </tr>\n",
       "  </thead>\n",
       "  <tbody>\n",
       "    <tr>\n",
       "      <th>0</th>\n",
       "      <td>0.975614</td>\n",
       "      <td>39</td>\n",
       "      <td>1</td>\n",
       "      <td>0.678552</td>\n",
       "      <td>1850.0</td>\n",
       "      <td>4</td>\n",
       "      <td>0</td>\n",
       "      <td>0</td>\n",
       "      <td>0</td>\n",
       "      <td>3.0</td>\n",
       "    </tr>\n",
       "    <tr>\n",
       "      <th>1</th>\n",
       "      <td>0.006634</td>\n",
       "      <td>75</td>\n",
       "      <td>0</td>\n",
       "      <td>0.082087</td>\n",
       "      <td>10500.0</td>\n",
       "      <td>21</td>\n",
       "      <td>0</td>\n",
       "      <td>1</td>\n",
       "      <td>0</td>\n",
       "      <td>0.0</td>\n",
       "    </tr>\n",
       "    <tr>\n",
       "      <th>2</th>\n",
       "      <td>0.227432</td>\n",
       "      <td>48</td>\n",
       "      <td>1</td>\n",
       "      <td>0.202145</td>\n",
       "      <td>6059.0</td>\n",
       "      <td>9</td>\n",
       "      <td>0</td>\n",
       "      <td>1</td>\n",
       "      <td>0</td>\n",
       "      <td>3.0</td>\n",
       "    </tr>\n",
       "    <tr>\n",
       "      <th>3</th>\n",
       "      <td>0.290217</td>\n",
       "      <td>59</td>\n",
       "      <td>0</td>\n",
       "      <td>0.674392</td>\n",
       "      <td>4400.0</td>\n",
       "      <td>6</td>\n",
       "      <td>0</td>\n",
       "      <td>2</td>\n",
       "      <td>0</td>\n",
       "      <td>0.0</td>\n",
       "    </tr>\n",
       "    <tr>\n",
       "      <th>4</th>\n",
       "      <td>0.000000</td>\n",
       "      <td>80</td>\n",
       "      <td>0</td>\n",
       "      <td>0.000000</td>\n",
       "      <td>2596.0</td>\n",
       "      <td>2</td>\n",
       "      <td>0</td>\n",
       "      <td>0</td>\n",
       "      <td>0</td>\n",
       "      <td>1.0</td>\n",
       "    </tr>\n",
       "  </tbody>\n",
       "</table>\n",
       "</div>"
      ],
      "text/plain": [
       "         A0  A1  A2        A3       A4  A5  A6  A7  A8   A9\n",
       "0  0.975614  39   1  0.678552   1850.0   4   0   0   0  3.0\n",
       "1  0.006634  75   0  0.082087  10500.0  21   0   1   0  0.0\n",
       "2  0.227432  48   1  0.202145   6059.0   9   0   1   0  3.0\n",
       "3  0.290217  59   0  0.674392   4400.0   6   0   2   0  0.0\n",
       "4  0.000000  80   0  0.000000   2596.0   2   0   0   0  1.0"
      ]
     },
     "execution_count": 4,
     "metadata": {},
     "output_type": "execute_result"
    }
   ],
   "source": [
    "X.columns = ['A' + str(i) for i in range(len(X.columns))]\n",
    "Xt.columns = ['A' + str(i) for i in range(len(Xt.columns))]\n",
    "X.head()"
   ]
  },
  {
   "cell_type": "markdown",
   "metadata": {},
   "source": [
    "Загрузили данные, переименовали ячейки. Теперь добавим признаки = переменоженные столбцы, чтобы данных было больше"
   ]
  },
  {
   "cell_type": "code",
   "execution_count": 5,
   "metadata": {},
   "outputs": [
    {
     "data": {
      "text/html": [
       "<div>\n",
       "<style>\n",
       "    .dataframe thead tr:only-child th {\n",
       "        text-align: right;\n",
       "    }\n",
       "\n",
       "    .dataframe thead th {\n",
       "        text-align: left;\n",
       "    }\n",
       "\n",
       "    .dataframe tbody tr th {\n",
       "        vertical-align: top;\n",
       "    }\n",
       "</style>\n",
       "<table border=\"1\" class=\"dataframe\">\n",
       "  <thead>\n",
       "    <tr style=\"text-align: right;\">\n",
       "      <th></th>\n",
       "      <th>A0</th>\n",
       "      <th>A1</th>\n",
       "      <th>A2</th>\n",
       "      <th>A3</th>\n",
       "      <th>A4</th>\n",
       "      <th>A5</th>\n",
       "      <th>A6</th>\n",
       "      <th>A7</th>\n",
       "      <th>A8</th>\n",
       "      <th>A9</th>\n",
       "      <th>...</th>\n",
       "      <th>A9A0</th>\n",
       "      <th>A9A1</th>\n",
       "      <th>A9A2</th>\n",
       "      <th>A9A3</th>\n",
       "      <th>A9A4</th>\n",
       "      <th>A9A5</th>\n",
       "      <th>A9A6</th>\n",
       "      <th>A9A7</th>\n",
       "      <th>A9A8</th>\n",
       "      <th>A9A9</th>\n",
       "    </tr>\n",
       "  </thead>\n",
       "  <tbody>\n",
       "    <tr>\n",
       "      <th>0</th>\n",
       "      <td>0.975614</td>\n",
       "      <td>39</td>\n",
       "      <td>1</td>\n",
       "      <td>0.678552</td>\n",
       "      <td>1850.0</td>\n",
       "      <td>4</td>\n",
       "      <td>0</td>\n",
       "      <td>0</td>\n",
       "      <td>0</td>\n",
       "      <td>3.0</td>\n",
       "      <td>...</td>\n",
       "      <td>2.926843</td>\n",
       "      <td>117.0</td>\n",
       "      <td>3.0</td>\n",
       "      <td>2.035656</td>\n",
       "      <td>5550.0</td>\n",
       "      <td>12.0</td>\n",
       "      <td>0.0</td>\n",
       "      <td>0.0</td>\n",
       "      <td>0.0</td>\n",
       "      <td>9.0</td>\n",
       "    </tr>\n",
       "    <tr>\n",
       "      <th>1</th>\n",
       "      <td>0.006634</td>\n",
       "      <td>75</td>\n",
       "      <td>0</td>\n",
       "      <td>0.082087</td>\n",
       "      <td>10500.0</td>\n",
       "      <td>21</td>\n",
       "      <td>0</td>\n",
       "      <td>1</td>\n",
       "      <td>0</td>\n",
       "      <td>0.0</td>\n",
       "      <td>...</td>\n",
       "      <td>0.000000</td>\n",
       "      <td>0.0</td>\n",
       "      <td>0.0</td>\n",
       "      <td>0.000000</td>\n",
       "      <td>0.0</td>\n",
       "      <td>0.0</td>\n",
       "      <td>0.0</td>\n",
       "      <td>0.0</td>\n",
       "      <td>0.0</td>\n",
       "      <td>0.0</td>\n",
       "    </tr>\n",
       "    <tr>\n",
       "      <th>2</th>\n",
       "      <td>0.227432</td>\n",
       "      <td>48</td>\n",
       "      <td>1</td>\n",
       "      <td>0.202145</td>\n",
       "      <td>6059.0</td>\n",
       "      <td>9</td>\n",
       "      <td>0</td>\n",
       "      <td>1</td>\n",
       "      <td>0</td>\n",
       "      <td>3.0</td>\n",
       "      <td>...</td>\n",
       "      <td>0.682295</td>\n",
       "      <td>144.0</td>\n",
       "      <td>3.0</td>\n",
       "      <td>0.606436</td>\n",
       "      <td>18177.0</td>\n",
       "      <td>27.0</td>\n",
       "      <td>0.0</td>\n",
       "      <td>3.0</td>\n",
       "      <td>0.0</td>\n",
       "      <td>9.0</td>\n",
       "    </tr>\n",
       "    <tr>\n",
       "      <th>3</th>\n",
       "      <td>0.290217</td>\n",
       "      <td>59</td>\n",
       "      <td>0</td>\n",
       "      <td>0.674392</td>\n",
       "      <td>4400.0</td>\n",
       "      <td>6</td>\n",
       "      <td>0</td>\n",
       "      <td>2</td>\n",
       "      <td>0</td>\n",
       "      <td>0.0</td>\n",
       "      <td>...</td>\n",
       "      <td>0.000000</td>\n",
       "      <td>0.0</td>\n",
       "      <td>0.0</td>\n",
       "      <td>0.000000</td>\n",
       "      <td>0.0</td>\n",
       "      <td>0.0</td>\n",
       "      <td>0.0</td>\n",
       "      <td>0.0</td>\n",
       "      <td>0.0</td>\n",
       "      <td>0.0</td>\n",
       "    </tr>\n",
       "    <tr>\n",
       "      <th>4</th>\n",
       "      <td>0.000000</td>\n",
       "      <td>80</td>\n",
       "      <td>0</td>\n",
       "      <td>0.000000</td>\n",
       "      <td>2596.0</td>\n",
       "      <td>2</td>\n",
       "      <td>0</td>\n",
       "      <td>0</td>\n",
       "      <td>0</td>\n",
       "      <td>1.0</td>\n",
       "      <td>...</td>\n",
       "      <td>0.000000</td>\n",
       "      <td>80.0</td>\n",
       "      <td>0.0</td>\n",
       "      <td>0.000000</td>\n",
       "      <td>2596.0</td>\n",
       "      <td>2.0</td>\n",
       "      <td>0.0</td>\n",
       "      <td>0.0</td>\n",
       "      <td>0.0</td>\n",
       "      <td>1.0</td>\n",
       "    </tr>\n",
       "  </tbody>\n",
       "</table>\n",
       "<p>5 rows × 110 columns</p>\n",
       "</div>"
      ],
      "text/plain": [
       "         A0  A1  A2        A3       A4  A5  A6  A7  A8   A9  ...       A9A0  \\\n",
       "0  0.975614  39   1  0.678552   1850.0   4   0   0   0  3.0  ...   2.926843   \n",
       "1  0.006634  75   0  0.082087  10500.0  21   0   1   0  0.0  ...   0.000000   \n",
       "2  0.227432  48   1  0.202145   6059.0   9   0   1   0  3.0  ...   0.682295   \n",
       "3  0.290217  59   0  0.674392   4400.0   6   0   2   0  0.0  ...   0.000000   \n",
       "4  0.000000  80   0  0.000000   2596.0   2   0   0   0  1.0  ...   0.000000   \n",
       "\n",
       "    A9A1  A9A2      A9A3     A9A4  A9A5  A9A6  A9A7  A9A8  A9A9  \n",
       "0  117.0   3.0  2.035656   5550.0  12.0   0.0   0.0   0.0   9.0  \n",
       "1    0.0   0.0  0.000000      0.0   0.0   0.0   0.0   0.0   0.0  \n",
       "2  144.0   3.0  0.606436  18177.0  27.0   0.0   3.0   0.0   9.0  \n",
       "3    0.0   0.0  0.000000      0.0   0.0   0.0   0.0   0.0   0.0  \n",
       "4   80.0   0.0  0.000000   2596.0   2.0   0.0   0.0   0.0   1.0  \n",
       "\n",
       "[5 rows x 110 columns]"
      ]
     },
     "execution_count": 5,
     "metadata": {},
     "output_type": "execute_result"
    }
   ],
   "source": [
    "columns = copy.copy(X.columns)\n",
    "for i in columns:\n",
    "    for j in columns:\n",
    "        X[str(i) + str(j)] = X[i]*X[j]\n",
    "        Xt[str(i) + str(j)] = Xt[i]*Xt[j]\n",
    "X.head()"
   ]
  },
  {
   "cell_type": "code",
   "execution_count": 6,
   "metadata": {},
   "outputs": [
    {
     "name": "stderr",
     "output_type": "stream",
     "text": [
      "D:\\Anaconda3\\lib\\site-packages\\ipykernel_launcher.py:2: DataConversionWarning: A column-vector y was passed when a 1d array was expected. Please change the shape of y to (n_samples,), for example using ravel().\n",
      "  \n"
     ]
    }
   ],
   "source": [
    "rf8 = sklearn.ensemble.RandomForestClassifier(n_estimators=100, min_samples_split=8, min_samples_leaf=4, max_features=25, random_state=0)\n",
    "pred = rf8.fit(X,y)"
   ]
  },
  {
   "cell_type": "code",
   "execution_count": 7,
   "metadata": {},
   "outputs": [
    {
     "name": "stdout",
     "output_type": "stream",
     "text": [
      "Feature importances:\n",
      " 1. feature 'A6A0 ' (0.0330)\n",
      " 2. feature 'A0A6 ' (0.0310)\n",
      " 3. feature 'A1A6 ' (0.0301)\n",
      " 4. feature 'A2A0 ' (0.0247)\n",
      " 5. feature 'A0A0 ' (0.0229)\n",
      " 6. feature 'A0   ' (0.0219)\n",
      " 7. feature 'A0A2 ' (0.0214)\n",
      " 8. feature 'A6A1 ' (0.0202)\n",
      " 9. feature 'A1A0 ' (0.0195)\n",
      "10. feature 'A0A1 ' (0.0187)\n",
      "11. feature 'A1A4 ' (0.0184)\n",
      "12. feature 'A4A1 ' (0.0182)\n",
      "13. feature 'A5A0 ' (0.0175)\n",
      "14. feature 'A0A5 ' (0.0169)\n",
      "15. feature 'A3A4 ' (0.0165)\n",
      "16. feature 'A3A5 ' (0.0164)\n",
      "17. feature 'A6A4 ' (0.0160)\n",
      "18. feature 'A4A3 ' (0.0160)\n",
      "19. feature 'A5A3 ' (0.0159)\n",
      "20. feature 'A0A3 ' (0.0156)\n",
      "21. feature 'A5A1 ' (0.0155)\n",
      "22. feature 'A3A1 ' (0.0154)\n",
      "23. feature 'A3A0 ' (0.0154)\n",
      "24. feature 'A4A0 ' (0.0154)\n",
      "25. feature 'A0A4 ' (0.0153)\n",
      "26. feature 'A1A5 ' (0.0153)\n",
      "27. feature 'A4A5 ' (0.0152)\n",
      "28. feature 'A1A3 ' (0.0152)\n",
      "29. feature 'A5A4 ' (0.0150)\n",
      "30. feature 'A1   ' (0.0147)\n",
      "31. feature 'A1A1 ' (0.0144)\n",
      "32. feature 'A4A6 ' (0.0142)\n",
      "33. feature 'A4A4 ' (0.0141)\n",
      "34. feature 'A4   ' (0.0139)\n",
      "35. feature 'A3A3 ' (0.0138)\n",
      "36. feature 'A3   ' (0.0134)\n",
      "37. feature 'A3A2 ' (0.0105)\n",
      "38. feature 'A6A6 ' (0.0102)\n",
      "39. feature 'A4A2 ' (0.0094)\n",
      "40. feature 'A2A4 ' (0.0094)\n",
      "41. feature 'A2A3 ' (0.0094)\n",
      "42. feature 'A7A3 ' (0.0091)\n",
      "43. feature 'A3A7 ' (0.0090)\n",
      "44. feature 'A7A0 ' (0.0088)\n",
      "45. feature 'A6A3 ' (0.0088)\n",
      "46. feature 'A0A7 ' (0.0086)\n",
      "47. feature 'A1A2 ' (0.0082)\n",
      "48. feature 'A4A9 ' (0.0082)\n",
      "49. feature 'A6   ' (0.0081)\n",
      "50. feature 'A9A4 ' (0.0081)\n",
      "51. feature 'A3A9 ' (0.0081)\n",
      "52. feature 'A9A0 ' (0.0079)\n",
      "53. feature 'A9A3 ' (0.0078)\n",
      "54. feature 'A7A4 ' (0.0077)\n",
      "55. feature 'A7A1 ' (0.0077)\n",
      "56. feature 'A0A9 ' (0.0076)\n",
      "57. feature 'A2A1 ' (0.0076)\n",
      "58. feature 'A4A7 ' (0.0075)\n",
      "59. feature 'A3A6 ' (0.0074)\n",
      "60. feature 'A1A7 ' (0.0072)\n",
      "61. feature 'A1A9 ' (0.0071)\n",
      "62. feature 'A4A8 ' (0.0071)\n",
      "63. feature 'A9A1 ' (0.0070)\n",
      "64. feature 'A3A8 ' (0.0065)\n",
      "65. feature 'A0A8 ' (0.0061)\n",
      "66. feature 'A5A5 ' (0.0060)\n",
      "67. feature 'A5   ' (0.0058)\n",
      "68. feature 'A7A5 ' (0.0057)\n",
      "69. feature 'A8A4 ' (0.0055)\n",
      "70. feature 'A5A7 ' (0.0054)\n",
      "71. feature 'A8A0 ' (0.0054)\n",
      "72. feature 'A8A3 ' (0.0053)\n",
      "73. feature 'A9A5 ' (0.0051)\n",
      "74. feature 'A5A9 ' (0.0050)\n",
      "75. feature 'A5A6 ' (0.0047)\n",
      "76. feature 'A5A2 ' (0.0046)\n",
      "77. feature 'A8A1 ' (0.0045)\n",
      "78. feature 'A1A8 ' (0.0045)\n",
      "79. feature 'A2A5 ' (0.0044)\n",
      "80. feature 'A6A2 ' (0.0040)\n",
      "81. feature 'A2A6 ' (0.0032)\n",
      "82. feature 'A6A5 ' (0.0032)\n",
      "83. feature 'A2   ' (0.0031)\n",
      "84. feature 'A8A5 ' (0.0028)\n",
      "85. feature 'A5A8 ' (0.0025)\n",
      "86. feature 'A7A9 ' (0.0020)\n",
      "87. feature 'A9A7 ' (0.0019)\n",
      "88. feature 'A2A9 ' (0.0017)\n",
      "89. feature 'A9A2 ' (0.0016)\n",
      "90. feature 'A2A8 ' (0.0014)\n",
      "91. feature 'A2A2 ' (0.0014)\n",
      "92. feature 'A9A9 ' (0.0013)\n",
      "93. feature 'A7   ' (0.0012)\n",
      "94. feature 'A9   ' (0.0012)\n",
      "95. feature 'A8   ' (0.0012)\n",
      "96. feature 'A8A2 ' (0.0012)\n",
      "97. feature 'A2A7 ' (0.0012)\n",
      "98. feature 'A7A2 ' (0.0011)\n",
      "99. feature 'A7A7 ' (0.0010)\n",
      "100. feature 'A8A8 ' (0.0010)\n",
      "101. feature 'A6A9 ' (0.0009)\n",
      "102. feature 'A9A8 ' (0.0008)\n",
      "103. feature 'A6A8 ' (0.0007)\n",
      "104. feature 'A8A9 ' (0.0007)\n",
      "105. feature 'A9A6 ' (0.0006)\n",
      "106. feature 'A8A7 ' (0.0006)\n",
      "107. feature 'A8A6 ' (0.0005)\n",
      "108. feature 'A7A8 ' (0.0005)\n",
      "109. feature 'A6A7 ' (0.0003)\n",
      "110. feature 'A7A6 ' (0.0003)\n"
     ]
    },
    {
     "data": {
      "text/plain": [
       "Index(['A6A0', 'A0A6', 'A1A6', 'A2A0', 'A0A0', 'A0', 'A0A2', 'A6A1', 'A1A0',\n",
       "       'A0A1', 'A1A4', 'A4A1', 'A5A0', 'A0A5', 'A3A4', 'A3A5', 'A6A4', 'A4A3',\n",
       "       'A5A3', 'A0A3'],\n",
       "      dtype='object')"
      ]
     },
     "execution_count": 7,
     "metadata": {},
     "output_type": "execute_result"
    }
   ],
   "source": [
    "importances = rf8.feature_importances_\n",
    "indices = np.argsort(importances)[::-1]\n",
    "print(\"Feature importances:\")\n",
    "for f, idx in enumerate(indices):\n",
    "    print(\"{:2d}. feature '{:5s}' ({:.4f})\".format(f + 1, X.columns[idx], importances[idx]))\n",
    "#первые 20-ть признаков\n",
    "X.columns[indices[:20]]"
   ]
  },
  {
   "cell_type": "markdown",
   "metadata": {},
   "source": [
    "Посмотрим какие признаки наиболее значимые. В итоге оказалось, что используя лишь наиболее \"крутые\" признаки погода не делается (точность того же бустинга хуже для 20 и 40 индексов, чем для всех ста с лишним). Расчёты здесь не оставил, можно в этом убедиться самостоятельно."
   ]
  },
  {
   "cell_type": "code",
   "execution_count": 8,
   "metadata": {
    "collapsed": true
   },
   "outputs": [],
   "source": [
    "pred = rf8.predict(Xt)"
   ]
  },
  {
   "cell_type": "code",
   "execution_count": 9,
   "metadata": {},
   "outputs": [
    {
     "data": {
      "text/plain": [
       "(0.57443365695792881, 0.95626325198519935)"
      ]
     },
     "execution_count": 9,
     "metadata": {},
     "output_type": "execute_result"
    }
   ],
   "source": [
    "score_f1, score_acc = {}, {}\n",
    "score_f1['rf'], score_acc['rf'] = sklearn.metrics.f1_score(yt, pred), sklearn.metrics.accuracy_score(yt, pred)\n",
    "score_f1['rf'], score_acc['rf']"
   ]
  },
  {
   "cell_type": "code",
   "execution_count": 10,
   "metadata": {},
   "outputs": [
    {
     "name": "stderr",
     "output_type": "stream",
     "text": [
      "D:\\Anaconda3\\lib\\site-packages\\sklearn\\utils\\validation.py:526: DataConversionWarning: A column-vector y was passed when a 1d array was expected. Please change the shape of y to (n_samples, ), for example using ravel().\n",
      "  y = column_or_1d(y, warn=True)\n"
     ]
    },
    {
     "data": {
      "text/plain": [
       "GradientBoostingClassifier(criterion='friedman_mse', init=None,\n",
       "              learning_rate=0.1, loss='deviance', max_depth=12,\n",
       "              max_features=30, max_leaf_nodes=None,\n",
       "              min_impurity_split=1e-07, min_samples_leaf=4,\n",
       "              min_samples_split=8, min_weight_fraction_leaf=0.0,\n",
       "              n_estimators=200, presort='auto', random_state=0,\n",
       "              subsample=0.9, verbose=0, warm_start=False)"
      ]
     },
     "execution_count": 10,
     "metadata": {},
     "output_type": "execute_result"
    }
   ],
   "source": [
    "clf_gbm = sklearn.ensemble.GradientBoostingClassifier(learning_rate=0.1, n_estimators=200, subsample=0.9, min_samples_split=8, min_samples_leaf=4, max_depth=12, max_features=30, random_state=0)\n",
    "clf_gbm.fit(X, y)"
   ]
  },
  {
   "cell_type": "code",
   "execution_count": 11,
   "metadata": {},
   "outputs": [
    {
     "data": {
      "text/plain": [
       "(0.73374056773266261, 0.96919303205421359)"
      ]
     },
     "execution_count": 11,
     "metadata": {},
     "output_type": "execute_result"
    }
   ],
   "source": [
    "pred_gbm = clf_gbm.predict(Xt)\n",
    "score_f1['gbm'], score_acc['gbm'] = sklearn.metrics.f1_score(yt, pred_gbm), sklearn.metrics.accuracy_score(yt, pred_gbm)\n",
    "score_f1['gbm'], score_acc['gbm']"
   ]
  },
  {
   "cell_type": "code",
   "execution_count": 12,
   "metadata": {},
   "outputs": [
    {
     "name": "stderr",
     "output_type": "stream",
     "text": [
      "D:\\Anaconda3\\lib\\site-packages\\ipykernel_launcher.py:2: DataConversionWarning: A column-vector y was passed when a 1d array was expected. Please change the shape of y to (n_samples, ), for example using ravel().\n",
      "  \n"
     ]
    },
    {
     "data": {
      "text/plain": [
       "KNeighborsClassifier(algorithm='auto', leaf_size=30, metric='minkowski',\n",
       "           metric_params=None, n_jobs=1, n_neighbors=20, p=2,\n",
       "           weights='distance')"
      ]
     },
     "execution_count": 12,
     "metadata": {},
     "output_type": "execute_result"
    }
   ],
   "source": [
    "clf_neigh = sklearn.neighbors.KNeighborsClassifier(n_neighbors=20, weights='distance')\n",
    "clf_neigh.fit(X, y)"
   ]
  },
  {
   "cell_type": "code",
   "execution_count": 13,
   "metadata": {},
   "outputs": [
    {
     "data": {
      "text/plain": [
       "(0.70977795091546547, 0.96902673263210415)"
      ]
     },
     "execution_count": 13,
     "metadata": {},
     "output_type": "execute_result"
    }
   ],
   "source": [
    "pred_neigh = clf_neigh.predict(Xt)\n",
    "score_f1['neigh'], score_acc['neigh'] = sklearn.metrics.f1_score(yt, pred_neigh), sklearn.metrics.accuracy_score(yt, pred_neigh)\n",
    "score_f1['neigh'], score_acc['neigh']"
   ]
  },
  {
   "cell_type": "code",
   "execution_count": 14,
   "metadata": {},
   "outputs": [
    {
     "name": "stderr",
     "output_type": "stream",
     "text": [
      "D:\\Anaconda3\\lib\\site-packages\\ipykernel_launcher.py:3: DataConversionWarning: A column-vector y was passed when a 1d array was expected. Please change the shape of y to (n_samples, ), for example using ravel().\n",
      "  This is separate from the ipykernel package so we can avoid doing imports until\n"
     ]
    },
    {
     "data": {
      "text/plain": [
       "KNeighborsClassifier(algorithm='auto', leaf_size=30, metric='minkowski',\n",
       "           metric_params=None, n_jobs=1, n_neighbors=16, p=2,\n",
       "           weights='distance')"
      ]
     },
     "execution_count": 14,
     "metadata": {},
     "output_type": "execute_result"
    }
   ],
   "source": [
    "#попробуем поиграться с ближайшими соседями с самыми значимыми признаками\n",
    "clf_neigh20 =  sklearn.neighbors.KNeighborsClassifier(n_neighbors=16, weights='distance')\n",
    "clf_neigh20.fit(X[X.columns[indices[:20]]], y)"
   ]
  },
  {
   "cell_type": "code",
   "execution_count": 15,
   "metadata": {},
   "outputs": [
    {
     "data": {
      "text/plain": [
       "(0.71459694989106748, 0.96732216355548162)"
      ]
     },
     "execution_count": 15,
     "metadata": {},
     "output_type": "execute_result"
    }
   ],
   "source": [
    "pred_neigh20 = clf_neigh20.predict(Xt[X.columns[indices[:20]]])\n",
    "score_f1['neigh20'], score_acc['neigh20'] = sklearn.metrics.f1_score(yt, pred_neigh20), sklearn.metrics.accuracy_score(yt, pred_neigh20)\n",
    "score_f1['neigh20'], score_acc['neigh20']"
   ]
  },
  {
   "cell_type": "markdown",
   "metadata": {},
   "source": [
    "Попробуем модель голосования между случ. лесом, бустингом и ближ. соседями по 20 самым значимым признакам из случ. леса."
   ]
  },
  {
   "cell_type": "code",
   "execution_count": 16,
   "metadata": {
    "collapsed": true
   },
   "outputs": [],
   "source": [
    "voting = sklearn.ensemble.VotingClassifier(estimators=[('rf', rf8), ('gbm', clf_gbm), ('neigh', clf_neigh20)], voting='soft')"
   ]
  },
  {
   "cell_type": "code",
   "execution_count": 17,
   "metadata": {},
   "outputs": [
    {
     "name": "stderr",
     "output_type": "stream",
     "text": [
      "D:\\Anaconda3\\lib\\site-packages\\sklearn\\preprocessing\\label.py:112: DataConversionWarning: A column-vector y was passed when a 1d array was expected. Please change the shape of y to (n_samples, ), for example using ravel().\n",
      "  y = column_or_1d(y, warn=True)\n",
      "D:\\Anaconda3\\lib\\site-packages\\sklearn\\preprocessing\\label.py:147: DataConversionWarning: A column-vector y was passed when a 1d array was expected. Please change the shape of y to (n_samples, ), for example using ravel().\n",
      "  y = column_or_1d(y, warn=True)\n"
     ]
    },
    {
     "data": {
      "text/plain": [
       "VotingClassifier(estimators=[('rf', RandomForestClassifier(bootstrap=True, class_weight=None, criterion='gini',\n",
       "            max_depth=None, max_features=25, max_leaf_nodes=None,\n",
       "            min_impurity_split=1e-07, min_samples_leaf=4,\n",
       "            min_samples_split=8, min_weight_fraction_leaf=0.0,\n",
       "            n_esti...ski',\n",
       "           metric_params=None, n_jobs=1, n_neighbors=16, p=2,\n",
       "           weights='distance'))],\n",
       "         n_jobs=1, voting='soft', weights=None)"
      ]
     },
     "execution_count": 17,
     "metadata": {},
     "output_type": "execute_result"
    }
   ],
   "source": [
    "voting.fit(X, y)"
   ]
  },
  {
   "cell_type": "code",
   "execution_count": 18,
   "metadata": {},
   "outputs": [
    {
     "data": {
      "text/plain": [
       "(0.72822822822822819, 0.96989980459817904)"
      ]
     },
     "execution_count": 18,
     "metadata": {},
     "output_type": "execute_result"
    }
   ],
   "source": [
    "pred_voting = voting.predict(Xt)\n",
    "score_f1['voting'], score_acc['voting'] = sklearn.metrics.f1_score(yt, pred_voting), sklearn.metrics.accuracy_score(yt, pred_voting)\n",
    "score_f1['voting'], score_acc['voting']"
   ]
  },
  {
   "cell_type": "code",
   "execution_count": 19,
   "metadata": {},
   "outputs": [
    {
     "data": {
      "text/plain": [
       "<matplotlib.axes._subplots.AxesSubplot at 0xccaea90>"
      ]
     },
     "execution_count": 19,
     "metadata": {},
     "output_type": "execute_result"
    },
    {
     "data": {
      "image/png": "[encoded data removed]",
      "text/plain": [
       "<matplotlib.figure.Figure at 0xcda4358>"
      ]
     },
     "metadata": {},
     "output_type": "display_data"
    }
   ],
   "source": [
    "pd.DataFrame.from_dict(data = score_f1, orient='index').plot(kind='bar', legend=False, title='F1 score')"
   ]
  },
  {
   "cell_type": "code",
   "execution_count": 20,
   "metadata": {},
   "outputs": [
    {
     "data": {
      "text/plain": [
       "<matplotlib.axes._subplots.AxesSubplot at 0xe05fcc0>"
      ]
     },
     "execution_count": 20,
     "metadata": {},
     "output_type": "execute_result"
    },
    {
     "data": {
      "image/png": "[encoded data removed]",
      "text/plain": [
       "<matplotlib.figure.Figure at 0xde92400>"
      ]
     },
     "metadata": {},
     "output_type": "display_data"
    }
   ],
   "source": [
    "pd.DataFrame.from_dict(data = score_acc, orient='index').plot(kind='bar', legend=False, title='Accuracy')"
   ]
  },
  {
   "cell_type": "markdown",
   "metadata": {},
   "source": [
    "Получим, что лучше всех на тестах ведёт себя градиентный бустинг, который даже обыгрывает голосование между град. бустингом, ближ. соседями по 20 самым значимым признакам и случайным лесом. (строго говоря, случ. соседи ведут себя очень странно: без нормировки почти на уровне бустинга, а с нормировкой - в десятки раз хуже. А нормировка-то для них необходима). Кросс-валидация для данных примеров (не считая k-neighbours) бессмысленна в силу долгого обучения алгоритмов случайного леса и бустинга\n",
    "\n",
    "Итоговый обученный классификатор clf_gbm (f1 = 0.734, accuracy = 0.969)"
   ]
  },
  {
   "cell_type": "code",
   "execution_count": 21,
   "metadata": {
    "collapsed": true
   },
   "outputs": [],
   "source": [
    "clf = clf_gbm"
   ]
  },
  {
   "cell_type": "code",
   "execution_count": 22,
   "metadata": {},
   "outputs": [
    {
     "data": {
      "text/plain": [
       "GradientBoostingClassifier(criterion='friedman_mse', init=None,\n",
       "              learning_rate=0.1, loss='deviance', max_depth=12,\n",
       "              max_features=30, max_leaf_nodes=None,\n",
       "              min_impurity_split=1e-07, min_samples_leaf=4,\n",
       "              min_samples_split=8, min_weight_fraction_leaf=0.0,\n",
       "              n_estimators=200, presort='auto', random_state=0,\n",
       "              subsample=0.9, verbose=0, warm_start=False)"
      ]
     },
     "execution_count": 22,
     "metadata": {},
     "output_type": "execute_result"
    }
   ],
   "source": [
    "clf"
   ]
  },
  {
   "cell_type": "code",
   "execution_count": null,
   "metadata": {
    "collapsed": true
   },
   "outputs": [],
   "source": []
  },
  {
   "cell_type": "code",
   "execution_count": null,
   "metadata": {
    "collapsed": true
   },
   "outputs": [],
   "source": []
  },
  {
   "cell_type": "code",
   "execution_count": null,
   "metadata": {
    "collapsed": true
   },
   "outputs": [],
   "source": []
  },
  {
   "cell_type": "code",
   "execution_count": null,
   "metadata": {
    "collapsed": true
   },
   "outputs": [],
   "source": []
  }
 ],
 "metadata": {
  "kernelspec": {
   "display_name": "Python 3",
   "language": "python",
   "name": "python3"
  },
  "language_info": {
   "codemirror_mode": {
    "name": "ipython",
    "version": 3
   },
   "file_extension": ".py",
   "mimetype": "text/x-python",
   "name": "python",
   "nbconvert_exporter": "python",
   "pygments_lexer": "ipython3",
   "version": "3.6.1"
  },
  "toc": {
   "colors": {
    "hover_highlight": "#DAA520",
    "navigate_num": "#000000",
    "navigate_text": "#333333",
    "running_highlight": "#FF0000",
    "selected_highlight": "#FFD700",
    "sidebar_border": "#EEEEEE",
    "wrapper_background": "#FFFFFF"
   },
   "moveMenuLeft": true,
   "nav_menu": {
    "height": "40px",
    "width": "252px"
   },
   "navigate_menu": true,
   "number_sections": true,
   "sideBar": true,
   "threshold": 4,
   "toc_cell": true,
   "toc_section_display": "block",
   "toc_window_display": false,
   "widenNotebook": false
  }
 },
 "nbformat": 4,
 "nbformat_minor": 2
}
